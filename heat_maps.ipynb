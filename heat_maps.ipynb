{
 "cells": [
  {
   "cell_type": "code",
   "execution_count": 1,
   "metadata": {
    "pycharm": {
     "is_executing": false
    }
   },
   "outputs": [],
   "source": [
    "import csv\n",
    "import numpy as np\n",
    "import matplotlib.pyplot as plt\n",
    "from matplotlib import colors\n",
    "\n",
    "SIZE = (100, 100, 1440)\n",
    "\n",
    "def heat_map(file_names, suptitle, titles, layout=(2, 2), sample_range=(0, 1440), size=SIZE, vmax=1):\n",
    "    nrows, ncols = layout\n",
    "    fig, axes = plt.subplots(nrows=nrows, ncols=ncols)\n",
    "    for ax, file_name, title in zip(axes.flat, file_names, titles):\n",
    "        with open(file_name) as report:\n",
    "            data = np.zeros(SIZE)\n",
    "            reader = csv.reader(report, delimiter=' ')\n",
    "            for row in reader:\n",
    "                x_str, y_str, _, *samples_str = row\n",
    "                x, y = int(x_str), int(y_str)\n",
    "                samples = [float(sample) for sample in samples_str]\n",
    "                data[y, x] = np.array(list(samples))\n",
    "\n",
    "            start, end = sample_range\n",
    "            data = data[:, :, start:end]\n",
    "            data = np.sum(data / (end - start), axis=2)\n",
    "            \n",
    "            im = ax.imshow(data, vmax=vmax)\n",
    "\n",
    "            ax.set_title(title)\n",
    "            ax.get_xaxis().set_visible(False)\n",
    "            ax.get_yaxis().set_visible(False)\n",
    "\n",
    "    fig.suptitle(suptitle, va='center')\n",
    "    cbar = fig.colorbar(im, extend='max', ax=axes.ravel().tolist())\n",
    "    cbar.set_label('average number of nodes', rotation=270)\n",
    "    cbar.ax.yaxis.labelpad = 15\n",
    "            \n",
    "    plt.savefig('{}.png'.format(suptitle), dpi=600)"
   ]
  },
  {
   "cell_type": "code",
   "execution_count": null,
   "metadata": {
    "pycharm": {
     "is_executing": true
    }
   },
   "outputs": [],
   "source": [
    "%matplotlib inline\n",
    "heat_map(\n",
    "    [\n",
    "        'reports/r_waypoint/reports/University_FMI_NodeDensityReportLayer0.txt',\n",
    "        'reports/r_waypoint/reports/University_FMI_NodeDensityReportLayer1.txt',\n",
    "        'reports/r_waypoint/reports/University_FMI_NodeDensityReportLayer2.txt',\n",
    "        'reports/r_waypoint/reports/University_FMI_NodeDensityReportLayer3.txt'\n",
    "    ], \n",
    "    'Random Waypoint, 100 students', \n",
    "    [\n",
    "        'ground floor',\n",
    "        '1st floor',\n",
    "        '2nd floor',\n",
    "        '3rd floor'\n",
    "    ],\n",
    "    vmax=0.1,\n",
    ")"
   ]
  },
  {
   "cell_type": "code",
   "execution_count": null,
   "metadata": {
    "pycharm": {
     "is_executing": true
    }
   },
   "outputs": [],
   "source": [
    "%matplotlib inline\n",
    "heat_map(\n",
    "    [\n",
    "        'reports/r_walk/reports/University_FMI_NodeDensityReportLayer0.txt',\n",
    "        'reports/r_walk/reports/University_FMI_NodeDensityReportLayer1.txt',\n",
    "        'reports/r_walk/reports/University_FMI_NodeDensityReportLayer2.txt',\n",
    "        'reports/r_walk/reports/University_FMI_NodeDensityReportLayer3.txt'\n",
    "    ], \n",
    "    'Random Walk, 100 students', \n",
    "    [\n",
    "        'ground floor',\n",
    "        '1st floor',\n",
    "        '2nd floor',\n",
    "        '3rd floor'\n",
    "    ],\n",
    "    vmax=0.1,\n",
    ")"
   ]
  },
  {
   "cell_type": "code",
   "execution_count": null,
   "metadata": {
    "pycharm": {
     "is_executing": true
    }
   },
   "outputs": [],
   "source": [
    "%matplotlib inline\n",
    "heat_map(\n",
    "    [\n",
    "        'reports/v1_2000/reports/University_FMI_NodeDensityReportLayer0.txt',\n",
    "        'reports/v1_2000/reports/University_FMI_NodeDensityReportLayer1.txt',\n",
    "        'reports/v1_2000/reports/University_FMI_NodeDensityReportLayer2.txt',\n",
    "        'reports/v1_2000/reports/University_FMI_NodeDensityReportLayer3.txt'\n",
    "    ], \n",
    "    'Scheduler v1, 2000 students', \n",
    "    [\n",
    "        'ground floor',\n",
    "        '1st floor',\n",
    "        '2nd floor',\n",
    "        '3rd floor'\n",
    "    ],\n",
    "    vmax=0.05,\n",
    "    sample_range=(0, 720)\n",
    ")"
   ]
  },
  {
   "cell_type": "code",
   "execution_count": null,
   "metadata": {
    "pycharm": {
     "is_executing": true
    }
   },
   "outputs": [],
   "source": [
    "%matplotlib inline\n",
    "heat_map(\n",
    "    [\n",
    "        'reports/v2_2000/reports/University_FMI_NodeDensityReportLayer0.txt',\n",
    "        'reports/v2_2000/reports/University_FMI_NodeDensityReportLayer1.txt',\n",
    "        'reports/v2_2000/reports/University_FMI_NodeDensityReportLayer2.txt',\n",
    "        'reports/v2_2000/reports/University_FMI_NodeDensityReportLayer3.txt'\n",
    "    ], \n",
    "    'Scheduler v2, 2000 students', \n",
    "    [\n",
    "        'ground floor',\n",
    "        '1st floor',\n",
    "        '2nd floor',\n",
    "        '3rd floor'\n",
    "    ],\n",
    "    vmax=0.05,\n",
    "    sample_range=(500, 1210)\n",
    ")"
   ]
  },
  {
   "cell_type": "code",
   "execution_count": null,
   "metadata": {
    "pycharm": {
     "is_executing": true
    }
   },
   "outputs": [],
   "source": [
    "%matplotlib inline\n",
    "heat_map(\n",
    "    [\n",
    "        'reports/v2_fewer_excercises/reports/University_FMI_NodeDensityReportLayer0.txt',\n",
    "        'reports/v2_fewer_excercises/reports/University_FMI_NodeDensityReportLayer1.txt',\n",
    "        'reports/v2_fewer_excercises/reports/University_FMI_NodeDensityReportLayer2.txt',\n",
    "        'reports/v2_fewer_excercises/reports/University_FMI_NodeDensityReportLayer3.txt'\n",
    "    ], \n",
    "    'Scheduler v2, 2000 students, less excercise rooms', \n",
    "    [\n",
    "        'ground floor',\n",
    "        '1st floor',\n",
    "        '2nd floor',\n",
    "        '3rd floor'\n",
    "    ],\n",
    "    vmax=0.05,\n",
    "    sample_range=(500, 1210)\n",
    ")"
   ]
  },
  {
   "cell_type": "code",
   "execution_count": null,
   "metadata": {
    "pycharm": {
     "is_executing": true
    }
   },
   "outputs": [],
   "source": [
    "%matplotlib inline\n",
    "heat_map(\n",
    "    [\n",
    "        'reports/v2_one_activity_equal_rooms/reports/University_FMI_NodeDensityReportLayer0.txt',\n",
    "        'reports/v2_one_activity_equal_rooms/reports/University_FMI_NodeDensityReportLayer1.txt',\n",
    "        'reports/v2_one_activity_equal_rooms/reports/University_FMI_NodeDensityReportLayer2.txt',\n",
    "        'reports/v2_one_activity_equal_rooms/reports/University_FMI_NodeDensityReportLayer3.txt'\n",
    "    ], \n",
    "    'Scheduler v2, 2000 students, one activity, equal rooms', \n",
    "    [\n",
    "        'ground floor',\n",
    "        '1st floor',\n",
    "        '2nd floor',\n",
    "        '3rd floor'\n",
    "    ],\n",
    "    vmax=0.05,\n",
    "    sample_range=(500, 1210)\n",
    ")"
   ]
  },
  {
   "cell_type": "code",
   "execution_count": null,
   "metadata": {
    "pycharm": {
     "is_executing": true
    }
   },
   "outputs": [],
   "source": [
    "%matplotlib inline\n",
    "heat_map(\n",
    "    [\n",
    "        'reports/v2_shortest_path/reports/University_FMI_NodeDensityReportLayer0.txt',\n",
    "        'reports/v2_shortest_path/reports/University_FMI_NodeDensityReportLayer1.txt',\n",
    "        'reports/v2_shortest_path/reports/University_FMI_NodeDensityReportLayer2.txt',\n",
    "        'reports/v2_shortest_path/reports/University_FMI_NodeDensityReportLayer3.txt'\n",
    "    ], \n",
    "    'Scheduler v2, 2000 students, shortest path', \n",
    "    [\n",
    "        'ground floor',\n",
    "        '1st floor',\n",
    "        '2nd floor',\n",
    "        '3rd floor'\n",
    "    ],\n",
    "    vmax=0.05,\n",
    "    sample_range=(500, 1210)\n",
    ")"
   ]
  }
 ],
 "metadata": {
  "kernelspec": {
   "display_name": "Python 3",
   "language": "python",
   "name": "python3"
  },
  "language_info": {
   "codemirror_mode": {
    "name": "ipython",
    "version": 3
   },
   "file_extension": ".py",
   "mimetype": "text/x-python",
   "name": "python",
   "nbconvert_exporter": "python",
   "pygments_lexer": "ipython3",
   "version": "3.6.5"
  },
  "pycharm": {
   "stem_cell": {
    "cell_type": "raw",
    "source": [],
    "metadata": {
     "collapsed": false
    }
   }
  }
 },
 "nbformat": 4,
 "nbformat_minor": 2
}